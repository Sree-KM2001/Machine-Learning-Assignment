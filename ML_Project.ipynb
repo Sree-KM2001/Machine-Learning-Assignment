{
  "nbformat": 4,
  "nbformat_minor": 0,
  "metadata": {
    "colab": {
      "provenance": [],
      "authorship_tag": "ABX9TyNKkyziypzRJr1skMAl5aFK",
      "include_colab_link": true
    },
    "kernelspec": {
      "name": "python3",
      "display_name": "Python 3"
    },
    "language_info": {
      "name": "python"
    }
  },
  "cells": [
    {
      "cell_type": "markdown",
      "metadata": {
        "id": "view-in-github",
        "colab_type": "text"
      },
      "source": [
        "<a href=\"https://colab.research.google.com/github/Sree-KM2001/Machine-Learning-Assignment/blob/main/ML_Project.ipynb\" target=\"_parent\"><img src=\"https://colab.research.google.com/assets/colab-badge.svg\" alt=\"Open In Colab\"/></a>"
      ]
    },
    {
      "cell_type": "code",
      "execution_count": 2,
      "metadata": {
        "colab": {
          "base_uri": "https://localhost:8080/"
        },
        "id": "PLJvG4QOhOmR",
        "outputId": "2211da91-9587-407e-de05-e052d81cc7f8"
      },
      "outputs": [
        {
          "output_type": "stream",
          "name": "stdout",
          "text": [
            "<class 'pandas.core.frame.DataFrame'>\n",
            "RangeIndex: 205 entries, 0 to 204\n",
            "Data columns (total 26 columns):\n",
            " #   Column            Non-Null Count  Dtype  \n",
            "---  ------            --------------  -----  \n",
            " 0   car_ID            205 non-null    int64  \n",
            " 1   symboling         205 non-null    int64  \n",
            " 2   CarName           205 non-null    object \n",
            " 3   fueltype          205 non-null    object \n",
            " 4   aspiration        205 non-null    object \n",
            " 5   doornumber        205 non-null    object \n",
            " 6   carbody           205 non-null    object \n",
            " 7   drivewheel        205 non-null    object \n",
            " 8   enginelocation    205 non-null    object \n",
            " 9   wheelbase         205 non-null    float64\n",
            " 10  carlength         205 non-null    float64\n",
            " 11  carwidth          205 non-null    float64\n",
            " 12  carheight         205 non-null    float64\n",
            " 13  curbweight        205 non-null    int64  \n",
            " 14  enginetype        205 non-null    object \n",
            " 15  cylindernumber    205 non-null    object \n",
            " 16  enginesize        205 non-null    int64  \n",
            " 17  fuelsystem        205 non-null    object \n",
            " 18  boreratio         205 non-null    float64\n",
            " 19  stroke            205 non-null    float64\n",
            " 20  compressionratio  205 non-null    float64\n",
            " 21  horsepower        205 non-null    int64  \n",
            " 22  peakrpm           205 non-null    int64  \n",
            " 23  citympg           205 non-null    int64  \n",
            " 24  highwaympg        205 non-null    int64  \n",
            " 25  price             205 non-null    float64\n",
            "dtypes: float64(8), int64(8), object(10)\n",
            "memory usage: 41.8+ KB\n"
          ]
        }
      ],
      "source": [
        "import pandas as pd\n",
        "import numpy as np\n",
        "from sklearn.model_selection import train_test_split\n",
        "from sklearn.preprocessing import StandardScaler\n",
        "from sklearn.impute import SimpleImputer\n",
        "\n",
        "# Load the dataset\n",
        "url = \"https://drive.google.com/uc?export=download&id=1FHmYNLs9v0Enc-UExEMpitOFGsWvB2dP\"\n",
        "df = pd.read_csv(url)\n",
        "\n",
        "# Check for missing values and data types\n",
        "df.info()\n",
        "\n"
      ]
    },
    {
      "cell_type": "code",
      "source": [
        "# Separate the numeric columns and categorical columns\n",
        "numerical_cols = df.select_dtypes(include=['float64', 'int64']).columns\n",
        "categorical_cols = df.select_dtypes(include=['object']).columns\n",
        "\n",
        "# Impute missing values for numerical columns (using mean for imputation)\n",
        "imputer = SimpleImputer(strategy=\"mean\")\n",
        "df[numerical_cols] = imputer.fit_transform(df[numerical_cols])\n",
        "\n",
        "# For categorical columns, impute using the most frequent value (mode)\n",
        "imputer_cat = SimpleImputer(strategy=\"most_frequent\")\n",
        "df[categorical_cols] = imputer_cat.fit_transform(df[categorical_cols])\n",
        "\n",
        "# If necessary, you can apply one-hot encoding for categorical columns (optional)\n",
        "df_encoded = pd.get_dummies(df, drop_first=True)\n",
        "\n",
        "# Now df_encoded should be ready for further processing\n",
        "print(df_encoded.head())"
      ],
      "metadata": {
        "colab": {
          "base_uri": "https://localhost:8080/"
        },
        "id": "wyDOBouxh1sw",
        "outputId": "d1837328-868b-4884-ab11-1d587d11a855"
      },
      "execution_count": 4,
      "outputs": [
        {
          "output_type": "stream",
          "name": "stdout",
          "text": [
            "   car_ID  symboling  wheelbase  carlength  carwidth  carheight  curbweight  \\\n",
            "0     1.0        3.0       88.6      168.8      64.1       48.8      2548.0   \n",
            "1     2.0        3.0       88.6      168.8      64.1       48.8      2548.0   \n",
            "2     3.0        1.0       94.5      171.2      65.5       52.4      2823.0   \n",
            "3     4.0        2.0       99.8      176.6      66.2       54.3      2337.0   \n",
            "4     5.0        2.0       99.4      176.6      66.4       54.3      2824.0   \n",
            "\n",
            "   enginesize  boreratio  stroke  ...  cylindernumber_three  \\\n",
            "0       130.0       3.47    2.68  ...                 False   \n",
            "1       130.0       3.47    2.68  ...                 False   \n",
            "2       152.0       2.68    3.47  ...                 False   \n",
            "3       109.0       3.19    3.40  ...                 False   \n",
            "4       136.0       3.19    3.40  ...                 False   \n",
            "\n",
            "   cylindernumber_twelve  cylindernumber_two  fuelsystem_2bbl  \\\n",
            "0                  False               False            False   \n",
            "1                  False               False            False   \n",
            "2                  False               False            False   \n",
            "3                  False               False            False   \n",
            "4                  False               False            False   \n",
            "\n",
            "   fuelsystem_4bbl  fuelsystem_idi  fuelsystem_mfi  fuelsystem_mpfi  \\\n",
            "0            False           False           False             True   \n",
            "1            False           False           False             True   \n",
            "2            False           False           False             True   \n",
            "3            False           False           False             True   \n",
            "4            False           False           False             True   \n",
            "\n",
            "   fuelsystem_spdi  fuelsystem_spfi  \n",
            "0            False            False  \n",
            "1            False            False  \n",
            "2            False            False  \n",
            "3            False            False  \n",
            "4            False            False  \n",
            "\n",
            "[5 rows x 191 columns]\n"
          ]
        }
      ]
    },
    {
      "cell_type": "code",
      "source": [
        "import pandas as pd\n",
        "from sklearn.datasets import load_iris\n",
        "from sklearn.model_selection import train_test_split\n",
        "from sklearn.preprocessing import StandardScaler\n",
        "from sklearn.linear_model import LinearRegression\n",
        "from sklearn.impute import SimpleImputer\n",
        "from sklearn.metrics import mean_squared_error, mean_absolute_error, r2_score\n",
        "\n",
        "# Load the dataset (replace this with loading your specific dataset)\n",
        "# Here I am using the Iris dataset as an example\n",
        "iris = load_iris()\n",
        "df = pd.DataFrame(data=iris.data, columns=iris.feature_names)\n",
        "\n",
        "# Add a dummy target column for demonstration purposes\n",
        "df['Price'] = iris.target  # Just for illustration, replace this with your actual target column\n",
        "\n",
        "# Check for missing values and handle them\n",
        "# Assuming there are no missing values in the Iris dataset, so no imputation needed\n",
        "# But for your dataset, we will use SimpleImputer\n",
        "numerical_cols = df.select_dtypes(include=['float64', 'int64']).columns\n",
        "imputer = SimpleImputer(strategy=\"mean\")\n",
        "df[numerical_cols] = imputer.fit_transform(df[numerical_cols])\n",
        "\n",
        "# Splitting the data into features (X) and target (y)\n",
        "X = df.drop(columns=[\"Price\"])\n",
        "y = df[\"Price\"]\n",
        "\n",
        "# Splitting the data into train and test sets\n",
        "X_train, X_test, y_train, y_test = train_test_split(X, y, test_size=0.2, random_state=42)\n",
        "\n",
        "# Scaling the features using StandardScaler\n",
        "scaler = StandardScaler()\n",
        "X_train_scaled = scaler.fit_transform(X_train)\n",
        "X_test_scaled = scaler.transform(X_test)\n",
        "\n",
        "# Initialize the Linear Regression model\n",
        "lin_reg = LinearRegression()\n",
        "\n",
        "# Train the model on the scaled training data\n",
        "lin_reg.fit(X_train_scaled, y_train)\n",
        "\n",
        "# Predict on the test set\n",
        "y_pred_lin = lin_reg.predict(X_test_scaled)\n",
        "\n",
        "# Evaluate the model\n",
        "r2_lin = r2_score(y_test, y_pred_lin)\n",
        "mse_lin = mean_squared_error(y_test, y_pred_lin)\n",
        "mae_lin = mean_absolute_error(y_test, y_pred_lin)\n",
        "\n",
        "# Print the evaluation results\n",
        "print(f\"Linear Regression: R^2={r2_lin}, MSE={mse_lin}, MAE={mae_lin}\")\n"
      ],
      "metadata": {
        "colab": {
          "base_uri": "https://localhost:8080/"
        },
        "id": "0_J4ybqViVLz",
        "outputId": "e7eaa168-a6f1-4f89-ed2d-7695390b9179"
      },
      "execution_count": 6,
      "outputs": [
        {
          "output_type": "stream",
          "name": "stdout",
          "text": [
            "Linear Regression: R^2=0.9468960016420045, MSE=0.03711379440797687, MAE=0.14637694965308523\n"
          ]
        }
      ]
    },
    {
      "cell_type": "code",
      "source": [
        "from sklearn.tree import DecisionTreeRegressor\n",
        "\n",
        "# Initialize and train Decision Tree model\n",
        "dt_reg = DecisionTreeRegressor(random_state=42)\n",
        "dt_reg.fit(X_train_scaled, y_train)\n",
        "\n",
        "# Predict on test data\n",
        "y_pred_dt = dt_reg.predict(X_test_scaled)\n",
        "\n",
        "# Evaluate the model\n",
        "r2_dt = r2_score(y_test, y_pred_dt)\n",
        "mse_dt = mean_squared_error(y_test, y_pred_dt)\n",
        "mae_dt = mean_absolute_error(y_test, y_pred_dt)\n",
        "\n",
        "print(f\"Decision Tree Regressor: R^2={r2_dt}, MSE={mse_dt}, MAE={mae_dt}\")\n"
      ],
      "metadata": {
        "colab": {
          "base_uri": "https://localhost:8080/"
        },
        "id": "rvrHyVDaiY1N",
        "outputId": "2fee22f1-6a9d-4cbd-9537-218bc21048c3"
      },
      "execution_count": 7,
      "outputs": [
        {
          "output_type": "stream",
          "name": "stdout",
          "text": [
            "Decision Tree Regressor: R^2=1.0, MSE=0.0, MAE=0.0\n"
          ]
        }
      ]
    },
    {
      "cell_type": "code",
      "source": [
        "from sklearn.ensemble import RandomForestRegressor\n",
        "\n",
        "# Initialize and train Random Forest model\n",
        "rf_reg = RandomForestRegressor(random_state=42)\n",
        "rf_reg.fit(X_train_scaled, y_train)\n",
        "\n",
        "# Predict on test data\n",
        "y_pred_rf = rf_reg.predict(X_test_scaled)\n",
        "\n",
        "# Evaluate the model\n",
        "r2_rf = r2_score(y_test, y_pred_rf)\n",
        "mse_rf = mean_squared_error(y_test, y_pred_rf)\n",
        "mae_rf = mean_absolute_error(y_test, y_pred_rf)\n",
        "\n",
        "print(f\"Random Forest Regressor: R^2={r2_rf}, MSE={mse_rf}, MAE={mae_rf}\")\n"
      ],
      "metadata": {
        "colab": {
          "base_uri": "https://localhost:8080/"
        },
        "id": "1mBPY4Cfiezc",
        "outputId": "480086e6-9efe-45df-df35-35fab573aa91"
      },
      "execution_count": 8,
      "outputs": [
        {
          "output_type": "stream",
          "name": "stdout",
          "text": [
            "Random Forest Regressor: R^2=0.9978632750397456, MSE=0.001493333333333334, MAE=0.014666666666666672\n"
          ]
        }
      ]
    },
    {
      "cell_type": "code",
      "source": [
        "from sklearn.ensemble import GradientBoostingRegressor\n",
        "\n",
        "# Initialize and train Gradient Boosting model\n",
        "gb_reg = GradientBoostingRegressor(random_state=42)\n",
        "gb_reg.fit(X_train_scaled, y_train)\n",
        "\n",
        "# Predict on test data\n",
        "y_pred_gb = gb_reg.predict(X_test_scaled)\n",
        "\n",
        "# Evaluate the model\n",
        "r2_gb = r2_score(y_test, y_pred_gb)\n",
        "mse_gb = mean_squared_error(y_test, y_pred_gb)\n",
        "mae_gb = mean_absolute_error(y_test, y_pred_gb)\n",
        "\n",
        "print(f\"Gradient Boosting Regressor: R^2={r2_gb}, MSE={mse_gb}, MAE={mae_gb}\")\n"
      ],
      "metadata": {
        "colab": {
          "base_uri": "https://localhost:8080/"
        },
        "id": "ORjpnHjGiid5",
        "outputId": "cab3a8d6-4650-4be0-f03a-892e0b6d1827"
      },
      "execution_count": 9,
      "outputs": [
        {
          "output_type": "stream",
          "name": "stdout",
          "text": [
            "Gradient Boosting Regressor: R^2=0.9914217405276045, MSE=0.005995250231263076, MAE=0.03599194026293924\n"
          ]
        }
      ]
    },
    {
      "cell_type": "code",
      "source": [
        "from sklearn.svm import SVR\n",
        "\n",
        "# Initialize and train SVR model\n",
        "svr_reg = SVR()\n",
        "svr_reg.fit(X_train_scaled, y_train)\n",
        "\n",
        "# Predict on test data\n",
        "y_pred_svr = svr_reg.predict(X_test_scaled)\n",
        "\n",
        "# Evaluate the model\n",
        "r2_svr = r2_score(y_test, y_pred_svr)\n",
        "mse_svr = mean_squared_error(y_test, y_pred_svr)\n",
        "mae_svr = mean_absolute_error(y_test, y_pred_svr)\n",
        "\n",
        "print(f\"Support Vector Regressor: R^2={r2_svr}, MSE={mse_svr}, MAE={mae_svr}\")\n"
      ],
      "metadata": {
        "colab": {
          "base_uri": "https://localhost:8080/"
        },
        "id": "1kCuk4rYiljH",
        "outputId": "40fab28f-96ff-4c44-ed6b-07c92c2bb11e"
      },
      "execution_count": 10,
      "outputs": [
        {
          "output_type": "stream",
          "name": "stdout",
          "text": [
            "Support Vector Regressor: R^2=0.9615962412420095, MSE=0.026839960287528893, MAE=0.13694863993163273\n"
          ]
        }
      ]
    },
    {
      "cell_type": "code",
      "source": [
        "# Comparing models\n",
        "models = ['Linear Regression', 'Decision Tree', 'Random Forest', 'Gradient Boosting', 'SVR']\n",
        "r2_scores = [r2_lin, r2_dt, r2_rf, r2_gb, r2_svr]\n",
        "mse_scores = [mse_lin, mse_dt, mse_rf, mse_gb, mse_svr]\n",
        "mae_scores = [mae_lin, mae_dt, mae_rf, mae_gb, mae_svr]\n",
        "\n",
        "comparison_df = pd.DataFrame({\n",
        "    'Model': models,\n",
        "    'R^2': r2_scores,\n",
        "    'MSE': mse_scores,\n",
        "    'MAE': mae_scores\n",
        "})\n",
        "\n",
        "print(comparison_df)\n"
      ],
      "metadata": {
        "colab": {
          "base_uri": "https://localhost:8080/"
        },
        "id": "y7sjuK4iipDJ",
        "outputId": "d0310a58-85d5-4205-d59d-f25a638b873e"
      },
      "execution_count": 11,
      "outputs": [
        {
          "output_type": "stream",
          "name": "stdout",
          "text": [
            "               Model       R^2       MSE       MAE\n",
            "0  Linear Regression  0.946896  0.037114  0.146377\n",
            "1      Decision Tree  1.000000  0.000000  0.000000\n",
            "2      Random Forest  0.997863  0.001493  0.014667\n",
            "3  Gradient Boosting  0.991422  0.005995  0.035992\n",
            "4                SVR  0.961596  0.026840  0.136949\n"
          ]
        }
      ]
    },
    {
      "cell_type": "code",
      "source": [
        "import matplotlib.pyplot as plt\n",
        "import numpy as np\n",
        "import pandas as pd\n",
        "from sklearn.ensemble import RandomForestRegressor\n",
        "\n",
        "# Assuming you have already trained the Random Forest model as per previous steps\n",
        "# Extract the feature importances from the RandomForest model\n",
        "importances_rf = rf_reg.feature_importances_\n",
        "indices_rf = np.argsort(importances_rf)\n",
        "\n",
        "# Plot the feature importance for Random Forest\n",
        "plt.figure(figsize=(10, 6))\n",
        "plt.title(\"Random Forest Feature Importances\")\n",
        "plt.barh(range(X.shape[1]), importances_rf[indices_rf], align=\"center\")\n",
        "plt.yticks(range(X.shape[1]), X.columns[indices_rf])\n",
        "plt.xlabel(\"Relative Importance\")\n",
        "plt.show()\n"
      ],
      "metadata": {
        "colab": {
          "base_uri": "https://localhost:8080/",
          "height": 564
        },
        "id": "GCqxWF6si_e9",
        "outputId": "306846aa-e073-4d13-caeb-cae89483dbbb"
      },
      "execution_count": 13,
      "outputs": [
        {
          "output_type": "display_data",
          "data": {
            "text/plain": [
              "<Figure size 1000x600 with 1 Axes>"
            ],
            "image/png": "[encoded data removed]"
          },
          "metadata": {}
        }
      ]
    },
    {
      "cell_type": "code",
      "source": [
        "from sklearn.model_selection import GridSearchCV\n",
        "\n",
        "# Define parameter grid for Random Forest\n",
        "param_grid_rf = {\n",
        "    'n_estimators': [100, 200],\n",
        "    'max_depth': [10, 20, None],\n",
        "    'min_samples_split': [2, 5],\n",
        "    'min_samples_leaf': [1, 2]\n",
        "}\n",
        "\n",
        "# Apply GridSearchCV for hyperparameter tuning\n",
        "grid_search_rf = GridSearchCV(estimator=RandomForestRegressor(random_state=42),\n",
        "                              param_grid=param_grid_rf, cv=5, n_jobs=-1, verbose=2)\n",
        "\n",
        "grid_search_rf.fit(X_train_scaled, y_train)\n",
        "\n",
        "# Get the best parameters and evaluate the performance\n",
        "best_rf_model = grid_search_rf.best_estimator_\n",
        "y_pred_best_rf = best_rf_model.predict(X_test_scaled)\n",
        "\n",
        "# Evaluate the tuned model\n",
        "r2_best_rf = r2_score(y_test, y_pred_best_rf)\n",
        "print(f\"Best Random Forest Model R^2 after tuning: {r2_best_rf}\")\n"
      ],
      "metadata": {
        "colab": {
          "base_uri": "https://localhost:8080/"
        },
        "id": "yOliz9IljC6T",
        "outputId": "18f41b2f-8bf9-4516-c21b-dde0330696eb"
      },
      "execution_count": 14,
      "outputs": [
        {
          "output_type": "stream",
          "name": "stdout",
          "text": [
            "Fitting 5 folds for each of 24 candidates, totalling 120 fits\n",
            "Best Random Forest Model R^2 after tuning: 0.9984201112877583\n"
          ]
        }
      ]
    }
  ]
}